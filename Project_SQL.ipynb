{
 "cells": [
  {
   "cell_type": "code",
   "execution_count": 1,
   "id": "f775430e",
   "metadata": {},
   "outputs": [],
   "source": [
    "import sqlite3"
   ]
  },
  {
   "cell_type": "markdown",
   "id": "c59f7d04",
   "metadata": {},
   "source": [
    "**Q1. Write SQL query to create table Customers.**"
   ]
  },
  {
   "cell_type": "code",
   "execution_count": 2,
   "id": "4fb84fdc",
   "metadata": {},
   "outputs": [],
   "source": [
    "# Connecting to the database\n",
    "database = sqlite3.connect('Customer_Information.db')"
   ]
  },
  {
   "cell_type": "code",
   "execution_count": 3,
   "id": "33752f7d",
   "metadata": {},
   "outputs": [],
   "source": [
    "# Creating Cursor Object\n",
    "cur = database.cursor()"
   ]
  },
  {
   "cell_type": "code",
   "execution_count": 4,
   "id": "f4105826",
   "metadata": {},
   "outputs": [
    {
     "data": {
      "text/plain": [
       "<sqlite3.Cursor at 0x265c37d1570>"
      ]
     },
     "execution_count": 4,
     "metadata": {},
     "output_type": "execute_result"
    }
   ],
   "source": [
    "# Creating Table Customers with the Required Fields\n",
    "cur.execute('''create table Customers (customerNumber int primary key,customerName text,\n",
    "contactLastName text, contactFirstName text,phone int unique,addressline1 text,addressline2 text, city text,\n",
    "state text ,postalcode int, country text,salesRepEmployeeNumber int, creditLimit int)''')"
   ]
  },
  {
   "cell_type": "code",
   "execution_count": 5,
   "id": "3160aa99",
   "metadata": {},
   "outputs": [],
   "source": [
    "database.commit;"
   ]
  },
  {
   "cell_type": "markdown",
   "id": "c4f3f52d",
   "metadata": {},
   "source": [
    " **Q2. Write SQL query to create table Orders.**"
   ]
  },
  {
   "cell_type": "code",
   "execution_count": 6,
   "id": "73436ff2",
   "metadata": {},
   "outputs": [],
   "source": [
    "# Connecting to the database\n",
    "database = sqlite3.connect('Customer_Information.db')"
   ]
  },
  {
   "cell_type": "code",
   "execution_count": 7,
   "id": "e5732fff",
   "metadata": {},
   "outputs": [],
   "source": [
    "# Creating Cursor Object\n",
    "cur = database.cursor()"
   ]
  },
  {
   "cell_type": "code",
   "execution_count": 10,
   "id": "81ab5528",
   "metadata": {},
   "outputs": [
    {
     "data": {
      "text/plain": [
       "<sqlite3.Cursor at 0x265c38506c0>"
      ]
     },
     "execution_count": 10,
     "metadata": {},
     "output_type": "execute_result"
    }
   ],
   "source": [
    "# Creating Table Orders With The Required Fields\n",
    "cur.execute('''create table Orders (orderNumber int primary key,orderDate text,\n",
    "requiredDate text, shippedDate text,status int,Comments text,customerNumber int)''')"
   ]
  },
  {
   "cell_type": "code",
   "execution_count": 11,
   "id": "4fd7d7be",
   "metadata": {},
   "outputs": [],
   "source": [
    "database.commit;"
   ]
  },
  {
   "cell_type": "markdown",
   "id": "ffe9e17f",
   "metadata": {},
   "source": [
    "**Q3. Write SQL query to show all the columns data from the Orders Table.**\n"
   ]
  },
  {
   "cell_type": "code",
   "execution_count": 18,
   "id": "2c82e67d",
   "metadata": {},
   "outputs": [
    {
     "name": "stdout",
     "output_type": "stream",
     "text": [
      "[]\n"
     ]
    },
    {
     "data": {
      "text/plain": [
       "['orderNumber',\n",
       " 'orderDate',\n",
       " 'requiredDate',\n",
       " 'shippedDate',\n",
       " 'status',\n",
       " 'Comments',\n",
       " 'customerNumber']"
      ]
     },
     "execution_count": 18,
     "metadata": {},
     "output_type": "execute_result"
    }
   ],
   "source": [
    "# Fetching all columns data\n",
    "cur.execute('select * from Orders')\n",
    "print(cur.fetchall())\n",
    "list(map(lambda x:x[0],cur.description))"
   ]
  },
  {
   "cell_type": "markdown",
   "id": "243e4151",
   "metadata": {},
   "source": [
    "**Q4. Write SQL query to show all the comments from the OrdersTable.**"
   ]
  },
  {
   "cell_type": "code",
   "execution_count": 19,
   "id": "5130c998",
   "metadata": {},
   "outputs": [
    {
     "data": {
      "text/plain": [
       "[]"
      ]
     },
     "execution_count": 19,
     "metadata": {},
     "output_type": "execute_result"
    }
   ],
   "source": [
    "# Fetching the Comments column\n",
    "cur.execute('select Comments from Orders')\n",
    "cur.fetchall()"
   ]
  },
  {
   "cell_type": "markdown",
   "id": "f7435d5d",
   "metadata": {},
   "source": [
    "**Q5. Write a SQL query to show orderDate and Total number of orders placed on that date, from Orders table.**"
   ]
  },
  {
   "cell_type": "code",
   "execution_count": 24,
   "id": "7870d853",
   "metadata": {},
   "outputs": [
    {
     "ename": "OperationalError",
     "evalue": "near \"orderDate\": syntax error",
     "output_type": "error",
     "traceback": [
      "\u001b[1;31m---------------------------------------------------------------------------\u001b[0m",
      "\u001b[1;31mOperationalError\u001b[0m                          Traceback (most recent call last)",
      "\u001b[1;32m<ipython-input-24-f7e9453e1775>\u001b[0m in \u001b[0;36m<module>\u001b[1;34m\u001b[0m\n\u001b[1;32m----> 1\u001b[1;33m \u001b[0mcur\u001b[0m\u001b[1;33m.\u001b[0m\u001b[0mexecute\u001b[0m\u001b[1;33m(\u001b[0m\u001b[1;34m'''select orderDate from Orders groupby orderDate'''\u001b[0m\u001b[1;33m)\u001b[0m\u001b[1;33m\u001b[0m\u001b[1;33m\u001b[0m\u001b[0m\n\u001b[0m",
      "\u001b[1;31mOperationalError\u001b[0m: near \"orderDate\": syntax error"
     ]
    }
   ],
   "source": [
    "cur.execute('''select orderDate ,sum(case when status = 'delivered' then 1 else 0) as totalOrders \n",
    "from Orders groupby orderDate''')\n",
    "cur.fetchall()"
   ]
  },
  {
   "cell_type": "markdown",
   "id": "ea80529d",
   "metadata": {},
   "source": [
    "**Q6. Write a SQL query to show employeNumber, lastName, firstName of all the employees from employees\n",
    "table**"
   ]
  },
  {
   "cell_type": "code",
   "execution_count": null,
   "id": "cff16a43",
   "metadata": {},
   "outputs": [],
   "source": [
    "cur.execute('select employeeNumber,lastName,FirstName from employees')\n",
    "cur.fetchall()"
   ]
  },
  {
   "cell_type": "markdown",
   "id": "ac057ea9",
   "metadata": {},
   "source": [
    "**Q7. Write a SQL query to show all orderNumber, customerName of the person who placed the respective order.**"
   ]
  },
  {
   "cell_type": "code",
   "execution_count": null,
   "id": "f029a52d",
   "metadata": {},
   "outputs": [],
   "source": [
    "cur.execute('''select orderNumber,customerName from Customers left join Orders on \n",
    "Customers.customerNumber = Orders.customerNumber''')\n",
    "cur.fetchall()"
   ]
  },
  {
   "cell_type": "markdown",
   "id": "1f9e7793",
   "metadata": {},
   "source": [
    "**Q8. Write a SQL query to show name of all the customers in one column and salerepemployee name inanother \n",
    "column.**"
   ]
  },
  {
   "cell_type": "code",
   "execution_count": null,
   "id": "463438a6",
   "metadata": {},
   "outputs": [],
   "source": [
    "cur.execute('''select customerName, saleRepEmployee  from Customers''')\n",
    "cur.fetchall()"
   ]
  },
  {
   "cell_type": "markdown",
   "id": "850ab49b",
   "metadata": {},
   "source": [
    "**Q9. Write a SQL query to show Date in one column and total payment amount of the payments made on that date \n",
    "from the payments table.**"
   ]
  },
  {
   "cell_type": "code",
   "execution_count": null,
   "id": "0365e613",
   "metadata": {},
   "outputs": [],
   "source": [
    "cur.execute('select paymentDate, sum(amount) as totalPayment from payments groupby paymentDate')\n",
    "cur.fetchall()"
   ]
  },
  {
   "cell_type": "markdown",
   "id": "efa5d98b",
   "metadata": {},
   "source": [
    "**Q10. Write a SQL query to show all the products productName, MSRP, productDescription from the products\n",
    "table**"
   ]
  },
  {
   "cell_type": "code",
   "execution_count": null,
   "id": "61ba1c71",
   "metadata": {},
   "outputs": [],
   "source": [
    "cur.execute('''select productName, MSRP, productDescription from products''')\n",
    "cur.fetchall()"
   ]
  },
  {
   "cell_type": "markdown",
   "id": "dc25aa80",
   "metadata": {},
   "source": [
    "**Q11. Write a SQL query to print the productName, productDescription of the most ordered product.**"
   ]
  },
  {
   "cell_type": "code",
   "execution_count": null,
   "id": "c80b964b",
   "metadata": {},
   "outputs": [],
   "source": [
    "cur.execute('''select productName,max(productName) as MostOrderedProduct, productDescription from (select count(productName) \n",
    "FROM doctor GROUP BY productName)`''')\n",
    "cur.fetchall()"
   ]
  },
  {
   "cell_type": "markdown",
   "id": "02727090",
   "metadata": {},
   "source": [
    "**Q12. Write a SQL query to print the city name where maximum number of orders were placed.**"
   ]
  },
  {
   "cell_type": "code",
   "execution_count": null,
   "id": "6510cf4d",
   "metadata": {},
   "outputs": [],
   "source": [
    "cur.execute('''select city from Customers left join Orders on \n",
    "Customers.customerNumber = Orders.customerNumber order by sum(order)  group by city''')\n",
    "cur.fetchall()"
   ]
  },
  {
   "cell_type": "markdown",
   "id": "72d3c910",
   "metadata": {},
   "source": [
    "**Q13. Write a SQL query to get the name of the state having maximum number of customers.**"
   ]
  },
  {
   "cell_type": "code",
   "execution_count": null,
   "id": "51e46e6c",
   "metadata": {},
   "outputs": [],
   "source": [
    "cur.execute('''select state,sum(customer) from Customers order by sum(customer) group by state''')\n",
    "cur.fetchone()"
   ]
  },
  {
   "cell_type": "markdown",
   "id": "33d54150",
   "metadata": {},
   "source": [
    "**Q14. Write a SQL query to print the employee number in one column and Full name of the employee in the \n",
    "second column for all the employees.**"
   ]
  },
  {
   "cell_type": "code",
   "execution_count": null,
   "id": "106de96b",
   "metadata": {},
   "outputs": [],
   "source": [
    "cur.execute('''select employeeNumber,firstName || lastName as FullName from employees''')\n",
    "cur.fetchall()"
   ]
  },
  {
   "cell_type": "markdown",
   "id": "e68feb7b",
   "metadata": {},
   "source": [
    "**Q15. Write a SQL query to print the orderNumber, customer Name and total amount paid by the customer for that \n",
    "order (quantityOrdered × priceEach).**"
   ]
  },
  {
   "cell_type": "code",
   "execution_count": null,
   "id": "9e2f4984",
   "metadata": {},
   "outputs": [],
   "source": [
    "cur.execute('''select orderdetails.orderNumber,customerName,quantity*priceEach as totalAmount \n",
    "from orderdetails left join Orders\n",
    "on orderdetails.orderNumber = Orders.orderNumber''')\n",
    "cur.fetchall()"
   ]
  }
 ],
 "metadata": {
  "kernelspec": {
   "display_name": "Python 3",
   "language": "python",
   "name": "python3"
  },
  "language_info": {
   "codemirror_mode": {
    "name": "ipython",
    "version": 3
   },
   "file_extension": ".py",
   "mimetype": "text/x-python",
   "name": "python",
   "nbconvert_exporter": "python",
   "pygments_lexer": "ipython3",
   "version": "3.8.8"
  }
 },
 "nbformat": 4,
 "nbformat_minor": 5
}
